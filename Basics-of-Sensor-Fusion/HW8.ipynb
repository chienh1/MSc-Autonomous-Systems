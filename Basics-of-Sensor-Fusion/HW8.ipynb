{
 "cells": [
  {
   "cell_type": "markdown",
   "id": "309de1f0-47dc-4110-8af1-e7ca47ddb8cf",
   "metadata": {},
   "source": [
    "# Homework 8 (DL Friday, November 17 at 12:00 PM)\n",
    "#### ELEC-E8740 - Basics of sensor fusion - Autumn 2023"
   ]
  },
  {
   "cell_type": "markdown",
   "id": "4e0fa1f6-381e-4edd-aa3a-e036bc498b3a",
   "metadata": {},
   "source": [
    "### Question:  Consider the scalar differential equation\n",
    "\\begin{equation}\n",
    "\\dot{x} = a x + u, \\qquad x(0) = x_0,\n",
    "\\end{equation}\n",
    "###  where $u = u(t)$ is some given input function."
   ]
  },
  {
   "cell_type": "code",
   "execution_count": 3,
   "id": "20ea5326-6cfe-4b66-8cc3-9ba8eb8fe6a0",
   "metadata": {
    "tags": []
   },
   "outputs": [],
   "source": [
    "import numpy as np\n",
    "import matplotlib.pyplot as plt\n",
    "from scipy.integrate import odeint\n"
   ]
  },
  {
   "cell_type": "markdown",
   "id": "9f15e358-393c-4883-93a5-71ca420e5c6f",
   "metadata": {},
   "source": [
    "### Part a (2 points):  With discretization step $dt$, form discretization of the model with zeroth-order-hold (ZOH) approximation in form\n",
    "\\begin{equation}\n",
    "x_n = f_n x_{n−1} + l_n u_{n−1}.\n",
    "\\end{equation}"
   ]
  },
  {
   "cell_type": "markdown",
   "id": "e19253df-b5aa-4524-8b2b-821c19cc99b9",
   "metadata": {},
   "source": [
    "### In the section below, implement the solution of $f_n$ and $l_n$:"
   ]
  },
  {
   "cell_type": "code",
   "execution_count": 44,
   "id": "640e3ec4-d59e-4f87-8f23-1421ddcb093d",
   "metadata": {
    "deletable": false,
    "nbgrader": {
     "cell_type": "code",
     "checksum": "5f0cb1c6813721c1e3e5b2b4cdcad3e2",
     "grade": false,
     "grade_id": "cell-5d3d808efb20dcea",
     "locked": false,
     "schema_version": 3,
     "solution": true,
     "task": false
    },
    "tags": []
   },
   "outputs": [],
   "source": [
    "def discretized_model_parameters_zoh(a, dt):\n",
    "    \"\"\" Implement parameters f_n and l_n of discretized dynamic model such that x_n = f_n x_{n-1} + l_n u_{n-1}\n",
    "    Input:\n",
    "        a: parameter of the given continous time model in the question \n",
    "        dt: discretization step\n",
    "    Output:\n",
    "        f_n and l_n\n",
    "    \"\"\"\n",
    "    # f_n = ?\n",
    "    # l_n = ?\n",
    "    f_n = np.exp(a*dt)\n",
    "    l_n = (np.exp(a*dt)-1)/a\n",
    "    # raise NotImplementedError()\n",
    "    return f_n, l_n # do not change this line, do not change the order of output"
   ]
  },
  {
   "cell_type": "code",
   "execution_count": 45,
   "id": "96ae058f-84d7-4af3-8888-5cfc2d696e68",
   "metadata": {
    "deletable": false,
    "editable": false,
    "nbgrader": {
     "cell_type": "code",
     "checksum": "8fa768a842a674a68edb60efb26bb5ed",
     "grade": true,
     "grade_id": "cell-402967b7d5914cfb",
     "locked": true,
     "points": 1,
     "schema_version": 3,
     "solution": false,
     "task": false
    },
    "tags": []
   },
   "outputs": [],
   "source": [
    "\"\"\"Check the result for several inputs\"\"\"\n",
    "assert np.allclose(discretized_model_parameters_zoh(-0.3, 0.01)[0], 0.997, rtol=1e-03, atol=1e-04)"
   ]
  },
  {
   "cell_type": "code",
   "execution_count": 46,
   "id": "ac6013b8-cfd1-4593-b59d-4953be17cbe0",
   "metadata": {
    "deletable": false,
    "editable": false,
    "nbgrader": {
     "cell_type": "code",
     "checksum": "2404ab352f9622ea9c038c461fe8407b",
     "grade": true,
     "grade_id": "cell-a2f03f893c92f25c",
     "locked": true,
     "points": 1,
     "schema_version": 3,
     "solution": false,
     "task": false
    },
    "tags": []
   },
   "outputs": [],
   "source": [
    "\"\"\"Check the result for several inputs\"\"\"\n",
    "assert np.allclose(discretized_model_parameters_zoh(-0.3, 0.01)[1], 0.01, rtol=1e-03, atol=1e-04)"
   ]
  },
  {
   "cell_type": "markdown",
   "id": "e0431feb-0528-4551-990b-28de49da52b3",
   "metadata": {},
   "source": [
    "### Part b (1 point): Implement the trajectory of the discretized model"
   ]
  },
  {
   "cell_type": "code",
   "execution_count": 47,
   "id": "ac33be5a-7c9b-44e0-be75-f7a04d410c89",
   "metadata": {
    "deletable": false,
    "nbgrader": {
     "cell_type": "code",
     "checksum": "aadfc451151ac306d9d00a1ffdff3a9e",
     "grade": false,
     "grade_id": "cell-d4fd7f1c39505a80",
     "locked": false,
     "schema_version": 3,
     "solution": true,
     "task": false
    },
    "tags": []
   },
   "outputs": [],
   "source": [
    "def x_trajectory(x0, steps, a , dt, ut):\n",
    "    \"\"\" Implement trajectory of discretized dynamic model --> x_n = f_n x_{n-1} + l_n u_{n-1}\n",
    "    Input:\n",
    "        x0: initial point\n",
    "        steps: total time steps\n",
    "        a: parameter of the given continuous time model in the question \n",
    "        dt: discretization step\n",
    "        ut: input of the continuous time model\n",
    "    Output:\n",
    "        x: trajectory of x\n",
    "    \"\"\"\n",
    "    x = np.zeros((steps,))\n",
    "    x[0] = x0 \n",
    "    # implement the trajectory\n",
    "    # you could use discretized_model_parameters_zoh(a, dt) - note that it has two outputs \n",
    "    f_n, l_n = discretized_model_parameters_zoh(a, dt) \n",
    "    for i in range(1,len(x)):\n",
    "        x[i] = f_n * x[i-1] + l_n * ut\n",
    "    \n",
    "    \n",
    "    # raise NotImplementedError()\n",
    "    return x"
   ]
  },
  {
   "cell_type": "code",
   "execution_count": 48,
   "id": "e2a1deae-f2a2-46e6-aa71-caa78459364d",
   "metadata": {
    "deletable": false,
    "editable": false,
    "nbgrader": {
     "cell_type": "code",
     "checksum": "cad9c34442957a45d668d0181e369823",
     "grade": true,
     "grade_id": "cell-984f115bf113edcd",
     "locked": true,
     "points": 1,
     "schema_version": 3,
     "solution": false,
     "task": false
    },
    "tags": []
   },
   "outputs": [],
   "source": [
    "\"\"\"Check the result for the given inputs\"\"\"\n",
    "assert np.allclose(x_trajectory(3., 100, -0.5 , 0.1, 1.)[0], 3.0, rtol=1e-03, atol=1e-04)\n",
    "assert (x_trajectory(3., 100, -0.5 , 0.1, 1.)[2] - x_trajectory(3., 100, -0.5 , 0.1, 1.)[0] < 0)\n",
    "assert (x_trajectory(3., 100, -0.5 , 0.1, 1.)[-1] - x_trajectory(3., 100, -0.5 , 0.1, 1.)[-5] < 0)"
   ]
  },
  {
   "cell_type": "markdown",
   "id": "7085c76d-b90f-47fb-8349-6dd492709e40",
   "metadata": {},
   "source": [
    "Uncomment and then Run the code below to see the trajectory By assuming that $u(t) = 1$, and $dt = 0.1$ and with $a = −1/2$ and $x_0 = 3$, and steps= $100$"
   ]
  },
  {
   "cell_type": "code",
   "execution_count": 49,
   "id": "84f46df3-16e9-4cbc-a3f2-d79a54bdcbd3",
   "metadata": {
    "tags": []
   },
   "outputs": [
    {
     "data": {
      "image/png": "[encoded data removed]",
      "text/plain": [
       "<Figure size 640x480 with 1 Axes>"
      ]
     },
     "metadata": {},
     "output_type": "display_data"
    }
   ],
   "source": [
    "x0_ = 3.\n",
    "a_ = -0.5\n",
    "dt_ = 0.1\n",
    "ut_ = 1\n",
    "steps_ = 100\n",
    "plt.plot(x_trajectory(x0_, steps_, a_ , dt_, ut_));"
   ]
  },
  {
   "cell_type": "markdown",
   "id": "7f40fd9c-6bc2-4967-800f-20c68f598978",
   "metadata": {},
   "source": [
    "### Part c (1 point): Solve the equation using builtin ODE solver (Python’s odeint) and check that the solution matches the above at the discretization points."
   ]
  },
  {
   "cell_type": "code",
   "execution_count": 50,
   "id": "8b68e0af-1b23-4ab9-b0e8-0662fdeb998f",
   "metadata": {
    "tags": []
   },
   "outputs": [],
   "source": [
    "# do not change this function\n",
    "def odefun(t, x, a, u):\n",
    "    return a * x + u"
   ]
  },
  {
   "cell_type": "markdown",
   "id": "3531fca7-6516-4d73-9d6a-31b936e3867d",
   "metadata": {},
   "source": [
    "### In the section below, use odeint to find the solution of the ode.\n",
    "Hint: in this part, your main task is to revisit 'odeint' function in 'https://docs.scipy.org/doc/scipy/reference/generated/scipy.integrate.odeint.html', \n",
    "\n",
    "and realize what you need to consider for 'tfirst' and 'args' input parameters of 'odeint' based on function 'odefun' presented above."
   ]
  },
  {
   "cell_type": "code",
   "execution_count": 51,
   "id": "84f343c1-efc4-4705-9740-7af074c07737",
   "metadata": {
    "deletable": false,
    "nbgrader": {
     "cell_type": "code",
     "checksum": "00c1a93418e8002d5ebde735c399d982",
     "grade": false,
     "grade_id": "cell-d8b1feb6c0e7a634",
     "locked": false,
     "schema_version": 3,
     "solution": true,
     "task": false
    },
    "tags": []
   },
   "outputs": [],
   "source": [
    "def builtin_ODE_solver(x0, steps, dt, ode_function, a, u):\n",
    "    T = np.arange(0, steps*dt, dt)\n",
    "    # x_builtin_ODE_solver = ?\n",
    "    x_builtin_ODE_solver = odeint(ode_function, x0, T, tfirst=True, args=(a,u))\n",
    "    # raise NotImplementedError()\n",
    "    return x_builtin_ODE_solver"
   ]
  },
  {
   "cell_type": "code",
   "execution_count": 52,
   "id": "ddf6ff6d-bacf-47d2-bcf3-027e24b05ac8",
   "metadata": {
    "deletable": false,
    "editable": false,
    "nbgrader": {
     "cell_type": "code",
     "checksum": "666ad1e684e0598794e8933607fce64f",
     "grade": true,
     "grade_id": "cell-fb944e584039a7e3",
     "locked": true,
     "points": 1,
     "schema_version": 3,
     "solution": false,
     "task": false
    },
    "tags": []
   },
   "outputs": [],
   "source": [
    "\"\"\"Check the result for the given inputs\"\"\"\n",
    "assert np.allclose(builtin_ODE_solver(3., 100, 0.1, odefun, -0.5 , 1.)[0], 3.0, rtol=1e-03, atol=1e-04)\n",
    "assert (builtin_ODE_solver(3., 100, 0.1, odefun, -0.5 , 1.)[2] - builtin_ODE_solver(3., 100, 0.1, odefun, -0.5 , 1.)[0] < 0)\n",
    "assert (builtin_ODE_solver(3., 100, 0.1, odefun, -0.5 , 1.)[-1] - builtin_ODE_solver(3., 100, 0.1, odefun, -0.5 , 1.)[-5] < 0)"
   ]
  },
  {
   "cell_type": "markdown",
   "id": "269160a3-b31d-4a88-acfb-ff89f379f378",
   "metadata": {},
   "source": [
    "Run the code below to see that the solution matches the above at the discretization points."
   ]
  },
  {
   "cell_type": "code",
   "execution_count": 53,
   "id": "df71f7d8-9cc9-4f74-af1b-a5be079d1c97",
   "metadata": {
    "tags": []
   },
   "outputs": [
    {
     "data": {
      "image/png": "[encoded data removed]",
      "text/plain": [
       "<Figure size 640x480 with 1 Axes>"
      ]
     },
     "metadata": {},
     "output_type": "display_data"
    }
   ],
   "source": [
    "plt.plot(x_trajectory(x0_, steps_, a_ , dt_, ut_), 'r--',  label = 'zoh solution')\n",
    "plt.plot(builtin_ODE_solver(x0_, steps_, dt_, odefun, a_, ut_), 'k.',  label = 'ODE solver')\n",
    "plt.grid()\n",
    "plt.legend();"
   ]
  },
  {
   "cell_type": "code",
   "execution_count": null,
   "id": "5b2398d7-30c1-4785-94f3-600ceb679ae2",
   "metadata": {},
   "outputs": [],
   "source": []
  }
 ],
 "metadata": {
  "kernelspec": {
   "display_name": "Python 3",
   "language": "python",
   "name": "python3"
  },
  "language_info": {
   "codemirror_mode": {
    "name": "ipython",
    "version": 3
   },
   "file_extension": ".py",
   "mimetype": "text/x-python",
   "name": "python",
   "nbconvert_exporter": "python",
   "pygments_lexer": "ipython3",
   "version": "3.10.8"
  }
 },
 "nbformat": 4,
 "nbformat_minor": 5
}
