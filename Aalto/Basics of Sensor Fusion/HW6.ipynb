{
 "cells": [
  {
   "cell_type": "markdown",
   "id": "99e106cc-acf6-4089-80d5-88a4c1b1b466",
   "metadata": {
    "tags": []
   },
   "source": [
    "# Homework 6 (DL Friday, November 3 at 12:00 PM)\n",
    "#### ELEC-E8740 - Basics of sensor fusion - Autumn 2023\n"
   ]
  },
  {
   "cell_type": "code",
   "execution_count": 28,
   "id": "2f864e11-76a8-4c2d-b6b3-d4930b077186",
   "metadata": {
    "deletable": false,
    "editable": false,
    "nbgrader": {
     "cell_type": "code",
     "checksum": "297c83df0dd2a2b2233abe896047d733",
     "grade": false,
     "grade_id": "cell-3faf67a585aa2066",
     "locked": true,
     "schema_version": 3,
     "solution": false,
     "task": false
    },
    "tags": []
   },
   "outputs": [],
   "source": [
    "import numpy as np\n",
    "import scipy.linalg as linalg\n",
    "from scipy.integrate import odeint\n",
    "import matplotlib.pyplot as plt"
   ]
  },
  {
   "cell_type": "markdown",
   "id": "db575f9e-06b0-41f8-8078-14db89a60ace",
   "metadata": {},
   "source": [
    "### Question: consider the scalar differential equation:\n",
    "\n",
    "$$\\dot{x} = f \\, x, \\quad x(0) = x_0$$\n",
    "\n",
    "with $f = - \\frac{1}{2}$ and $x_0 = 3$.\n"
   ]
  },
  {
   "cell_type": "markdown",
   "id": "5610c9ec-1778-43b1-b87d-72c3b243dc61",
   "metadata": {
    "deletable": false,
    "editable": false,
    "nbgrader": {
     "cell_type": "markdown",
     "checksum": "1e782e36539ba4ebabbb5eaea412a195",
     "grade": false,
     "grade_id": "cell-7b80e114959cf60d",
     "locked": true,
     "schema_version": 3,
     "solution": false,
     "task": false
    },
    "tags": []
   },
   "source": [
    "### Part a (1 point): Solve the equation analytically and code function $x(t)$ in the section below.\n",
    "\n",
    "### Hint: one way is to consider $\\frac{dx}{dt} = f \\, x \\rightarrow  \\frac{dx}{x} = f dt$, then take integrals from both sides from $0$ to $t$.\n",
    "\n",
    "### Hint: another option is to use Laplace transform.\n"
   ]
  },
  {
   "cell_type": "code",
   "execution_count": 29,
   "id": "e57f1267-373a-447c-a43a-22414a146b0e",
   "metadata": {
    "deletable": false,
    "nbgrader": {
     "cell_type": "code",
     "checksum": "8ebd59dd570aac28159f6861df7ecfb1",
     "grade": false,
     "grade_id": "cell-929d6873261e5233",
     "locked": false,
     "schema_version": 3,
     "solution": true,
     "task": false
    },
    "tags": []
   },
   "outputs": [],
   "source": [
    "def analytical_solution_x(t):\n",
    "    \"\"\" Return the analytical solution of the mentioned ODE.\n",
    "    Input:\n",
    "        t: time\n",
    "    Output:\n",
    "        solution of the ode\n",
    "    \n",
    "    \"\"\"\n",
    "    # YOUR CODE HERE\n",
    "    x0 = 3.0\n",
    "    f = -0.5\n",
    "    return x0 * np.exp(f * t)\n",
    "    # raise NotImplementedError()\n"
   ]
  },
  {
   "cell_type": "code",
   "execution_count": 30,
   "id": "44cfcb1a-968c-42c2-bf4f-ffaa0abc5a0e",
   "metadata": {
    "deletable": false,
    "editable": false,
    "nbgrader": {
     "cell_type": "code",
     "checksum": "3ad03179567a45fdf158fe4be7d4f6dc",
     "grade": true,
     "grade_id": "cell-6dd68c24f30188b6",
     "locked": true,
     "points": 1,
     "schema_version": 3,
     "solution": false,
     "task": false
    },
    "tags": []
   },
   "outputs": [],
   "source": [
    "\"\"\"Check the result for several inputs\"\"\"\n",
    "assert np.allclose(analytical_solution_x(0.0), 3.0)\n",
    "assert np.allclose(analytical_solution_x(2.0), 1.1036, rtol=1e-03, atol=1e-04)"
   ]
  },
  {
   "cell_type": "markdown",
   "id": "971966e4-9e6d-4f9a-8f38-a09bf62cfc56",
   "metadata": {},
   "source": [
    "### Part b (1 point): Use Euler’s method to solve the equation numerically."
   ]
  },
  {
   "cell_type": "markdown",
   "id": "73051da1-e8d9-426a-91c1-9587c8c8cb37",
   "metadata": {},
   "source": [
    "To use Euler's method, we need ODE function which in this question is:\n"
   ]
  },
  {
   "cell_type": "code",
   "execution_count": 31,
   "id": "e02bac40-b665-4462-ac55-da568361d0b1",
   "metadata": {
    "tags": []
   },
   "outputs": [],
   "source": [
    "# ode function\n",
    "def dxdt(t, x):\n",
    "    return - 0.5 * x"
   ]
  },
  {
   "cell_type": "code",
   "execution_count": 32,
   "id": "4fad3b6e-5377-4528-8be1-5600808f99c6",
   "metadata": {
    "deletable": false,
    "nbgrader": {
     "cell_type": "code",
     "checksum": "d8f045181f0d659e3ad8a6f6c7af5b41",
     "grade": false,
     "grade_id": "cell-c8e38ca729eae03c",
     "locked": false,
     "schema_version": 3,
     "solution": true,
     "task": false
    },
    "tags": []
   },
   "outputs": [],
   "source": [
    "def Euler_solution(x0, t_0, t_end, dt, dxdt):\n",
    "    \n",
    "    T = np.arange(t_0, t_end, dt)       \n",
    "    x_euler = np.zeros((T.shape[0],))\n",
    "    x_euler[0] = x0\n",
    "    \n",
    "    for i in range(0, T.shape[0] - 1):\n",
    "        \n",
    "        #  You should calculate x_euler[i + 1] from  x_euler[i] and you need to call function dxdt(T[i], x_euler[i]).\n",
    "        \n",
    "        #  Note: the first argument in dxdt is not used in this question; however, we include it for the sake of completeness.\n",
    "        #  Also, this argument is necessary while using built-in ODE solver. \n",
    "        \n",
    "        x_euler[i + 1] = x_euler[i] + dt * dxdt(T[i], x_euler[i])\n",
    "        # raise NotImplementedError()\n",
    "    \n",
    "    return x_euler\n",
    "    "
   ]
  },
  {
   "cell_type": "code",
   "execution_count": 33,
   "id": "0d65e61d-2f85-4219-bbdf-68686254394d",
   "metadata": {
    "deletable": false,
    "editable": false,
    "nbgrader": {
     "cell_type": "code",
     "checksum": "9befba80981685e84e3d6e2a73a27f55",
     "grade": true,
     "grade_id": "cell-4ec03b0627b96209",
     "locked": true,
     "points": 1,
     "schema_version": 3,
     "solution": false,
     "task": false
    },
    "tags": []
   },
   "outputs": [],
   "source": [
    "\"\"\"Check the result for several inputs\"\"\"\n",
    "assert np.allclose(Euler_solution(3.0, 0.0, 10, 0.5, dxdt)[0], 3.0)\n",
    "assert np.allclose(Euler_solution(3.0, 0.0, 10, 0.5, dxdt)[-1], 0.0127, rtol=1e-03, atol=1e-04)"
   ]
  },
  {
   "cell_type": "markdown",
   "id": "8fb20652-e4c0-4f8a-af56-655b23778287",
   "metadata": {
    "tags": []
   },
   "source": [
    "### Part c (1 points): Use a builtin ODE solver (Python’s odeint) to numerically solve the equation."
   ]
  },
  {
   "cell_type": "code",
   "execution_count": 34,
   "id": "b5db6b92-53e5-4f69-b464-2793481a73e8",
   "metadata": {
    "deletable": false,
    "nbgrader": {
     "cell_type": "code",
     "checksum": "3f39f73ceefc6942e9de7c437d1b9700",
     "grade": false,
     "grade_id": "cell-b062d337efdf5a4f",
     "locked": false,
     "schema_version": 3,
     "solution": true,
     "task": false
    },
    "tags": []
   },
   "outputs": [],
   "source": [
    "def builtin_ODE_solver(x0, t_0, t_end, dt, dxdt):\n",
    "    T = np.arange(t_0, t_end, dt) \n",
    "    # Please check odeint function signature in 'https://docs.scipy.org/doc/scipy/reference/generated/scipy.integrate.odeint.html'\n",
    "    # Here, because the first argument of the ode function is defined as 't', you must put tfirst=True\n",
    "    # x_builtin_ODE_solver = ?\n",
    "    x_builtin_ODE_solver = odeint(dxdt, x0, T, tfirst=True)\n",
    "    # raise NotImplementedError()\n",
    "    return x_builtin_ODE_solver"
   ]
  },
  {
   "cell_type": "code",
   "execution_count": 35,
   "id": "8ce4221c-8956-41fd-9d41-6332a350edda",
   "metadata": {
    "deletable": false,
    "editable": false,
    "nbgrader": {
     "cell_type": "code",
     "checksum": "37721b3a9005ba815ade5ae9fa740ec9",
     "grade": true,
     "grade_id": "cell-fa8eb4c57908163c",
     "locked": true,
     "points": 1,
     "schema_version": 3,
     "solution": false,
     "task": false
    },
    "tags": []
   },
   "outputs": [],
   "source": [
    "\"\"\"Check the result for several inputs\"\"\"\n",
    "assert np.allclose(builtin_ODE_solver(3.0, 0.0, 10, 0.5, dxdt)[0], 3.0)\n",
    "assert np.allclose(builtin_ODE_solver(3.0, 0.0, 10, 0.5, dxdt)[-1], 0.02595, rtol=1e-03, atol=1e-04)"
   ]
  },
  {
   "cell_type": "markdown",
   "id": "bcf2a949-7b42-4cbd-876d-5411a19940e0",
   "metadata": {},
   "source": [
    "### Part d (1 points): Visualize the solutions and compare them to each other.\n",
    "\n",
    "### Please run the given codes, and as you compare the numerical solutions with the analytical one, observe how the choice of numerical methods and the sampling time can affect the results. "
   ]
  },
  {
   "cell_type": "code",
   "execution_count": 38,
   "id": "192dfa97-3051-47a6-81cd-d4c7d4fc479d",
   "metadata": {
    "tags": []
   },
   "outputs": [],
   "source": [
    "x0 = 3.0\n",
    "t_0 = 0.0\n",
    "t_end = 10\n",
    "dt_1 = 0.5\n",
    "T_1 = np.arange(t_0, t_end, dt_1)  "
   ]
  },
  {
   "cell_type": "code",
   "execution_count": 39,
   "id": "97b3ff6a-399e-490a-a158-7a5cc50ea88f",
   "metadata": {
    "tags": []
   },
   "outputs": [],
   "source": [
    "x_analytical_1 = analytical_solution_x(T_1)\n",
    "x_euler_1 = Euler_solution(x0, t_0, t_end, dt_1, dxdt)\n",
    "x_odeint_solver_1 = builtin_ODE_solver(x0, t_0, t_end, dt_1, dxdt)"
   ]
  },
  {
   "cell_type": "code",
   "execution_count": 40,
   "id": "079168bd-8b2b-40c6-9b0b-df3f09549bad",
   "metadata": {
    "tags": []
   },
   "outputs": [
    {
     "data": {
      "image/png": "[encoded data removed]",
      "text/plain": [
       "<Figure size 640x480 with 1 Axes>"
      ]
     },
     "metadata": {},
     "output_type": "display_data"
    }
   ],
   "source": [
    "plt.plot(T_1, x_analytical_1, 'r--',  label = 'Analytical solution')\n",
    "plt.plot(T_1, x_euler_1,'--b', label = 'Solution with Euler\\'s method')\n",
    "plt.plot(T_1, x_odeint_solver_1, 'k.',  label = 'ODE solver')\n",
    "plt.grid()\n",
    "plt.legend();"
   ]
  },
  {
   "cell_type": "code",
   "execution_count": 41,
   "id": "6225fce1-47c6-44c0-902a-7bdcd5beab1c",
   "metadata": {
    "tags": []
   },
   "outputs": [],
   "source": [
    "x0 = 3.0\n",
    "t_0 = 0.0\n",
    "t_end = 10\n",
    "dt_2 = 0.07\n",
    "T_2 = np.arange(t_0, t_end, dt_2) "
   ]
  },
  {
   "cell_type": "code",
   "execution_count": 42,
   "id": "01d7fa84-dc30-401d-a7ea-55e85a2a7066",
   "metadata": {
    "tags": []
   },
   "outputs": [],
   "source": [
    "x_analytical_2 = analytical_solution_x(T_2)\n",
    "x_euler_2 = Euler_solution(x0, t_0, t_end, dt_2, dxdt)\n",
    "x_odeint_solver_2 = builtin_ODE_solver(x0, t_0, t_end, dt_2, dxdt)"
   ]
  },
  {
   "cell_type": "code",
   "execution_count": 43,
   "id": "68ffb75d-6fe1-41f1-a95f-4606a8bf5f0c",
   "metadata": {
    "tags": []
   },
   "outputs": [
    {
     "data": {
      "image/png": "[encoded data removed]",
      "text/plain": [
       "<Figure size 640x480 with 1 Axes>"
      ]
     },
     "metadata": {},
     "output_type": "display_data"
    }
   ],
   "source": [
    "plt.plot(T_2, x_analytical_2, 'r--',  label = 'Analytical solution')\n",
    "plt.plot(T_2, x_euler_2,'--b', label = 'Solution with Euler\\'s method')\n",
    "plt.plot(T_2, x_odeint_solver_2, 'k.',  label = 'ODE solver')\n",
    "plt.grid()\n",
    "plt.legend();"
   ]
  },
  {
   "cell_type": "code",
   "execution_count": 44,
   "id": "fcf9920d-afa5-44e8-956d-25dc15d42986",
   "metadata": {
    "tags": []
   },
   "outputs": [],
   "source": [
    "# The anlaytic solution is a more precise answer. The solution with Euler's method is approximation which can raise the error. \n",
    "# Smaller time steps provide a more precise answer, especially obvious in the solution with Euler's method."
   ]
  },
  {
   "cell_type": "code",
   "execution_count": null,
   "id": "1ab1b275-2ef6-4ef0-8b48-2aa3bf1498a0",
   "metadata": {
    "deletable": false,
    "editable": false,
    "nbgrader": {
     "cell_type": "code",
     "checksum": "ec06443ca3588fb3be0b6f6dc8f740de",
     "grade": true,
     "grade_id": "cell-d80d667a66d7f359",
     "locked": true,
     "points": 1,
     "schema_version": 3,
     "solution": false,
     "task": false
    },
    "tags": []
   },
   "outputs": [],
   "source": []
  }
 ],
 "metadata": {
  "kernelspec": {
   "display_name": "Python 3",
   "language": "python",
   "name": "python3"
  },
  "language_info": {
   "codemirror_mode": {
    "name": "ipython",
    "version": 3
   },
   "file_extension": ".py",
   "mimetype": "text/x-python",
   "name": "python",
   "nbconvert_exporter": "python",
   "pygments_lexer": "ipython3",
   "version": "3.10.8"
  }
 },
 "nbformat": 4,
 "nbformat_minor": 5
}
